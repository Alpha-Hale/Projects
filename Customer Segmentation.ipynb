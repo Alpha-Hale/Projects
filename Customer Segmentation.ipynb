{
 "cells": [
  {
   "cell_type": "code",
   "execution_count": 87,
   "id": "fb033929",
   "metadata": {},
   "outputs": [],
   "source": [
    "import pandas as pd\n",
    "import numpy as np\n",
    "import seaborn as sns\n",
    "sns.set()\n",
    "import matplotlib as mpl\n",
    "mpl.use('tkagg')\n",
    "import matplotlib.pyplot as plt\n",
    "%matplotlib inline\n",
    "from sklearn.preprocessing import StandardScaler\n",
    "from sklearn.cluster import KMeans\n",
    "from sklearn.decomposition import PCA"
   ]
  },
  {
   "cell_type": "code",
   "execution_count": 5,
   "id": "c51ce1ae",
   "metadata": {},
   "outputs": [
    {
     "data": {
      "text/html": [
       "<div>\n",
       "<style scoped>\n",
       "    .dataframe tbody tr th:only-of-type {\n",
       "        vertical-align: middle;\n",
       "    }\n",
       "\n",
       "    .dataframe tbody tr th {\n",
       "        vertical-align: top;\n",
       "    }\n",
       "\n",
       "    .dataframe thead th {\n",
       "        text-align: right;\n",
       "    }\n",
       "</style>\n",
       "<table border=\"1\" class=\"dataframe\">\n",
       "  <thead>\n",
       "    <tr style=\"text-align: right;\">\n",
       "      <th></th>\n",
       "      <th>Sex</th>\n",
       "      <th>Marital status</th>\n",
       "      <th>Age</th>\n",
       "      <th>Education</th>\n",
       "      <th>Income</th>\n",
       "      <th>Occupation</th>\n",
       "      <th>Settlement size</th>\n",
       "    </tr>\n",
       "    <tr>\n",
       "      <th>ID</th>\n",
       "      <th></th>\n",
       "      <th></th>\n",
       "      <th></th>\n",
       "      <th></th>\n",
       "      <th></th>\n",
       "      <th></th>\n",
       "      <th></th>\n",
       "    </tr>\n",
       "  </thead>\n",
       "  <tbody>\n",
       "    <tr>\n",
       "      <th>100000001</th>\n",
       "      <td>0</td>\n",
       "      <td>0</td>\n",
       "      <td>67</td>\n",
       "      <td>2</td>\n",
       "      <td>124670</td>\n",
       "      <td>1</td>\n",
       "      <td>2</td>\n",
       "    </tr>\n",
       "    <tr>\n",
       "      <th>100000002</th>\n",
       "      <td>1</td>\n",
       "      <td>1</td>\n",
       "      <td>22</td>\n",
       "      <td>1</td>\n",
       "      <td>150773</td>\n",
       "      <td>1</td>\n",
       "      <td>2</td>\n",
       "    </tr>\n",
       "    <tr>\n",
       "      <th>100000003</th>\n",
       "      <td>0</td>\n",
       "      <td>0</td>\n",
       "      <td>49</td>\n",
       "      <td>1</td>\n",
       "      <td>89210</td>\n",
       "      <td>0</td>\n",
       "      <td>0</td>\n",
       "    </tr>\n",
       "    <tr>\n",
       "      <th>100000004</th>\n",
       "      <td>0</td>\n",
       "      <td>0</td>\n",
       "      <td>45</td>\n",
       "      <td>1</td>\n",
       "      <td>171565</td>\n",
       "      <td>1</td>\n",
       "      <td>1</td>\n",
       "    </tr>\n",
       "    <tr>\n",
       "      <th>100000005</th>\n",
       "      <td>0</td>\n",
       "      <td>0</td>\n",
       "      <td>53</td>\n",
       "      <td>1</td>\n",
       "      <td>149031</td>\n",
       "      <td>1</td>\n",
       "      <td>1</td>\n",
       "    </tr>\n",
       "  </tbody>\n",
       "</table>\n",
       "</div>"
      ],
      "text/plain": [
       "           Sex  Marital status  Age  Education  Income  Occupation  \\\n",
       "ID                                                                   \n",
       "100000001    0               0   67          2  124670           1   \n",
       "100000002    1               1   22          1  150773           1   \n",
       "100000003    0               0   49          1   89210           0   \n",
       "100000004    0               0   45          1  171565           1   \n",
       "100000005    0               0   53          1  149031           1   \n",
       "\n",
       "           Settlement size  \n",
       "ID                          \n",
       "100000001                2  \n",
       "100000002                2  \n",
       "100000003                0  \n",
       "100000004                1  \n",
       "100000005                1  "
      ]
     },
     "execution_count": 5,
     "metadata": {},
     "output_type": "execute_result"
    }
   ],
   "source": [
    "seg = pd.read_csv('segmentation data.csv', index_col=0)\n",
    "seg.head()"
   ]
  },
  {
   "cell_type": "markdown",
   "id": "f839c4a3",
   "metadata": {},
   "source": [
    "## Notes on data\n",
    "\n",
    "ID:  Identifier of each customer\n",
    "\n",
    "Sex:\n",
    "     0=male 1=female\n",
    "\n",
    "Maritual status:\n",
    "     0=single 1=none single\n",
    "\n",
    "Age: Age of customer\n",
    "\n",
    "Education:\n",
    "     0=other/unknown\n",
    "     1=high school\n",
    "     2=university\n",
    "     3=graduate school\n",
    "\n",
    "Income: annual income of customer\n",
    "\n",
    "Occupation:\n",
    "     0=unemployed\n",
    "     1=skilled\n",
    "     2=highly qualified\n",
    "\n",
    "Settlement size:\n",
    "     0=small city\n",
    "     1=mid-size city\n",
    "     2=big city"
   ]
  },
  {
   "cell_type": "markdown",
   "id": "982f44b7",
   "metadata": {},
   "source": [
    "## Exploratory Data Analysis (EDA)"
   ]
  },
  {
   "cell_type": "code",
   "execution_count": 6,
   "id": "47fb0544",
   "metadata": {},
   "outputs": [
    {
     "data": {
      "text/html": [
       "<div>\n",
       "<style scoped>\n",
       "    .dataframe tbody tr th:only-of-type {\n",
       "        vertical-align: middle;\n",
       "    }\n",
       "\n",
       "    .dataframe tbody tr th {\n",
       "        vertical-align: top;\n",
       "    }\n",
       "\n",
       "    .dataframe thead th {\n",
       "        text-align: right;\n",
       "    }\n",
       "</style>\n",
       "<table border=\"1\" class=\"dataframe\">\n",
       "  <thead>\n",
       "    <tr style=\"text-align: right;\">\n",
       "      <th></th>\n",
       "      <th>Sex</th>\n",
       "      <th>Marital status</th>\n",
       "      <th>Age</th>\n",
       "      <th>Education</th>\n",
       "      <th>Income</th>\n",
       "      <th>Occupation</th>\n",
       "      <th>Settlement size</th>\n",
       "    </tr>\n",
       "  </thead>\n",
       "  <tbody>\n",
       "    <tr>\n",
       "      <th>count</th>\n",
       "      <td>2000.000000</td>\n",
       "      <td>2000.000000</td>\n",
       "      <td>2000.000000</td>\n",
       "      <td>2000.00000</td>\n",
       "      <td>2000.000000</td>\n",
       "      <td>2000.000000</td>\n",
       "      <td>2000.000000</td>\n",
       "    </tr>\n",
       "    <tr>\n",
       "      <th>mean</th>\n",
       "      <td>0.457000</td>\n",
       "      <td>0.496500</td>\n",
       "      <td>35.909000</td>\n",
       "      <td>1.03800</td>\n",
       "      <td>120954.419000</td>\n",
       "      <td>0.810500</td>\n",
       "      <td>0.739000</td>\n",
       "    </tr>\n",
       "    <tr>\n",
       "      <th>std</th>\n",
       "      <td>0.498272</td>\n",
       "      <td>0.500113</td>\n",
       "      <td>11.719402</td>\n",
       "      <td>0.59978</td>\n",
       "      <td>38108.824679</td>\n",
       "      <td>0.638587</td>\n",
       "      <td>0.812533</td>\n",
       "    </tr>\n",
       "    <tr>\n",
       "      <th>min</th>\n",
       "      <td>0.000000</td>\n",
       "      <td>0.000000</td>\n",
       "      <td>18.000000</td>\n",
       "      <td>0.00000</td>\n",
       "      <td>35832.000000</td>\n",
       "      <td>0.000000</td>\n",
       "      <td>0.000000</td>\n",
       "    </tr>\n",
       "    <tr>\n",
       "      <th>25%</th>\n",
       "      <td>0.000000</td>\n",
       "      <td>0.000000</td>\n",
       "      <td>27.000000</td>\n",
       "      <td>1.00000</td>\n",
       "      <td>97663.250000</td>\n",
       "      <td>0.000000</td>\n",
       "      <td>0.000000</td>\n",
       "    </tr>\n",
       "    <tr>\n",
       "      <th>50%</th>\n",
       "      <td>0.000000</td>\n",
       "      <td>0.000000</td>\n",
       "      <td>33.000000</td>\n",
       "      <td>1.00000</td>\n",
       "      <td>115548.500000</td>\n",
       "      <td>1.000000</td>\n",
       "      <td>1.000000</td>\n",
       "    </tr>\n",
       "    <tr>\n",
       "      <th>75%</th>\n",
       "      <td>1.000000</td>\n",
       "      <td>1.000000</td>\n",
       "      <td>42.000000</td>\n",
       "      <td>1.00000</td>\n",
       "      <td>138072.250000</td>\n",
       "      <td>1.000000</td>\n",
       "      <td>1.000000</td>\n",
       "    </tr>\n",
       "    <tr>\n",
       "      <th>max</th>\n",
       "      <td>1.000000</td>\n",
       "      <td>1.000000</td>\n",
       "      <td>76.000000</td>\n",
       "      <td>3.00000</td>\n",
       "      <td>309364.000000</td>\n",
       "      <td>2.000000</td>\n",
       "      <td>2.000000</td>\n",
       "    </tr>\n",
       "  </tbody>\n",
       "</table>\n",
       "</div>"
      ],
      "text/plain": [
       "               Sex  Marital status          Age   Education         Income  \\\n",
       "count  2000.000000     2000.000000  2000.000000  2000.00000    2000.000000   \n",
       "mean      0.457000        0.496500    35.909000     1.03800  120954.419000   \n",
       "std       0.498272        0.500113    11.719402     0.59978   38108.824679   \n",
       "min       0.000000        0.000000    18.000000     0.00000   35832.000000   \n",
       "25%       0.000000        0.000000    27.000000     1.00000   97663.250000   \n",
       "50%       0.000000        0.000000    33.000000     1.00000  115548.500000   \n",
       "75%       1.000000        1.000000    42.000000     1.00000  138072.250000   \n",
       "max       1.000000        1.000000    76.000000     3.00000  309364.000000   \n",
       "\n",
       "        Occupation  Settlement size  \n",
       "count  2000.000000      2000.000000  \n",
       "mean      0.810500         0.739000  \n",
       "std       0.638587         0.812533  \n",
       "min       0.000000         0.000000  \n",
       "25%       0.000000         0.000000  \n",
       "50%       1.000000         1.000000  \n",
       "75%       1.000000         1.000000  \n",
       "max       2.000000         2.000000  "
      ]
     },
     "execution_count": 6,
     "metadata": {},
     "output_type": "execute_result"
    }
   ],
   "source": [
    "# Standard statistical analysis\n",
    "\n",
    "seg.describe()\n",
    "\n",
    "# Data has 2000 observations in total\n",
    "# Data is showing nearly an even split between sinle and non single status of the customers.\n",
    "# Data shows an average age of 36\n",
    "# Data shows an average income of 121,000"
   ]
  },
  {
   "cell_type": "code",
   "execution_count": 7,
   "id": "bb58a572",
   "metadata": {},
   "outputs": [
    {
     "data": {
      "text/plain": [
       "Sex                0\n",
       "Marital status     0\n",
       "Age                0\n",
       "Education          0\n",
       "Income             0\n",
       "Occupation         0\n",
       "Settlement size    0\n",
       "dtype: int64"
      ]
     },
     "execution_count": 7,
     "metadata": {},
     "output_type": "execute_result"
    }
   ],
   "source": [
    "# Check for null values\n",
    "\n",
    "seg.isna().sum()"
   ]
  },
  {
   "cell_type": "code",
   "execution_count": 8,
   "id": "24ba8f6f",
   "metadata": {},
   "outputs": [
    {
     "data": {
      "text/plain": [
       "0    1007\n",
       "1     993\n",
       "Name: Marital status, dtype: int64"
      ]
     },
     "execution_count": 8,
     "metadata": {},
     "output_type": "execute_result"
    }
   ],
   "source": [
    "seg['Marital status'].value_counts()"
   ]
  },
  {
   "cell_type": "code",
   "execution_count": 9,
   "id": "5c4ddcc6",
   "metadata": {},
   "outputs": [
    {
     "data": {
      "text/plain": [
       "0    1086\n",
       "1     914\n",
       "Name: Sex, dtype: int64"
      ]
     },
     "execution_count": 9,
     "metadata": {},
     "output_type": "execute_result"
    }
   ],
   "source": [
    "seg['Sex'].value_counts()"
   ]
  },
  {
   "cell_type": "code",
   "execution_count": 10,
   "id": "52b5f3de",
   "metadata": {},
   "outputs": [
    {
     "data": {
      "text/plain": [
       "0.543"
      ]
     },
     "execution_count": 10,
     "metadata": {},
     "output_type": "execute_result"
    }
   ],
   "source": [
    "1086/2000\n",
    "\n",
    "#54% of the dataset is male"
   ]
  },
  {
   "cell_type": "code",
   "execution_count": 11,
   "id": "ce0b2258",
   "metadata": {},
   "outputs": [
    {
     "data": {
      "image/png": "[encoded data removed]",
      "text/plain": [
       "<Figure size 432x288 with 1 Axes>"
      ]
     },
     "metadata": {
      "needs_background": "light"
     },
     "output_type": "display_data"
    }
   ],
   "source": [
    "seg['Sex'].value_counts().plot(kind='bar', color=['salmon', 'lightblue'])\n",
    "plt.title('Gender Proportion')\n",
    "plt.xlabel('0=Male,  1=Female')\n",
    "plt.ylabel('Amount')\n",
    "plt.xticks(rotation=1);"
   ]
  },
  {
   "cell_type": "code",
   "execution_count": 12,
   "id": "cbca5a53",
   "metadata": {},
   "outputs": [
    {
     "data": {
      "text/html": [
       "<div>\n",
       "<style scoped>\n",
       "    .dataframe tbody tr th:only-of-type {\n",
       "        vertical-align: middle;\n",
       "    }\n",
       "\n",
       "    .dataframe tbody tr th {\n",
       "        vertical-align: top;\n",
       "    }\n",
       "\n",
       "    .dataframe thead th {\n",
       "        text-align: right;\n",
       "    }\n",
       "</style>\n",
       "<table border=\"1\" class=\"dataframe\">\n",
       "  <thead>\n",
       "    <tr style=\"text-align: right;\">\n",
       "      <th>Education</th>\n",
       "      <th>0</th>\n",
       "      <th>1</th>\n",
       "      <th>2</th>\n",
       "      <th>3</th>\n",
       "    </tr>\n",
       "    <tr>\n",
       "      <th>Occupation</th>\n",
       "      <th></th>\n",
       "      <th></th>\n",
       "      <th></th>\n",
       "      <th></th>\n",
       "    </tr>\n",
       "  </thead>\n",
       "  <tbody>\n",
       "    <tr>\n",
       "      <th>0</th>\n",
       "      <td>92</td>\n",
       "      <td>436</td>\n",
       "      <td>96</td>\n",
       "      <td>9</td>\n",
       "    </tr>\n",
       "    <tr>\n",
       "      <th>1</th>\n",
       "      <td>168</td>\n",
       "      <td>796</td>\n",
       "      <td>133</td>\n",
       "      <td>16</td>\n",
       "    </tr>\n",
       "    <tr>\n",
       "      <th>2</th>\n",
       "      <td>27</td>\n",
       "      <td>154</td>\n",
       "      <td>62</td>\n",
       "      <td>11</td>\n",
       "    </tr>\n",
       "  </tbody>\n",
       "</table>\n",
       "</div>"
      ],
      "text/plain": [
       "Education     0    1    2   3\n",
       "Occupation                   \n",
       "0            92  436   96   9\n",
       "1           168  796  133  16\n",
       "2            27  154   62  11"
      ]
     },
     "execution_count": 12,
     "metadata": {},
     "output_type": "execute_result"
    }
   ],
   "source": [
    "pd.crosstab(seg['Occupation'], seg['Education'])\n",
    "\n",
    "#A large proprtion of the data contains customers which are skilled (not qualified) with high school education (only)"
   ]
  },
  {
   "cell_type": "code",
   "execution_count": 13,
   "id": "3a5b8392",
   "metadata": {},
   "outputs": [
    {
     "data": {
      "text/html": [
       "<div>\n",
       "<style scoped>\n",
       "    .dataframe tbody tr th:only-of-type {\n",
       "        vertical-align: middle;\n",
       "    }\n",
       "\n",
       "    .dataframe tbody tr th {\n",
       "        vertical-align: top;\n",
       "    }\n",
       "\n",
       "    .dataframe thead th {\n",
       "        text-align: right;\n",
       "    }\n",
       "</style>\n",
       "<table border=\"1\" class=\"dataframe\">\n",
       "  <thead>\n",
       "    <tr style=\"text-align: right;\">\n",
       "      <th></th>\n",
       "      <th>Sex</th>\n",
       "      <th>Marital status</th>\n",
       "      <th>Age</th>\n",
       "      <th>Education</th>\n",
       "      <th>Income</th>\n",
       "      <th>Occupation</th>\n",
       "      <th>Settlement size</th>\n",
       "    </tr>\n",
       "    <tr>\n",
       "      <th>ID</th>\n",
       "      <th></th>\n",
       "      <th></th>\n",
       "      <th></th>\n",
       "      <th></th>\n",
       "      <th></th>\n",
       "      <th></th>\n",
       "      <th></th>\n",
       "    </tr>\n",
       "  </thead>\n",
       "  <tbody>\n",
       "    <tr>\n",
       "      <th>100000001</th>\n",
       "      <td>0</td>\n",
       "      <td>0</td>\n",
       "      <td>67</td>\n",
       "      <td>2</td>\n",
       "      <td>124670</td>\n",
       "      <td>1</td>\n",
       "      <td>2</td>\n",
       "    </tr>\n",
       "    <tr>\n",
       "      <th>100000004</th>\n",
       "      <td>0</td>\n",
       "      <td>0</td>\n",
       "      <td>45</td>\n",
       "      <td>1</td>\n",
       "      <td>171565</td>\n",
       "      <td>1</td>\n",
       "      <td>1</td>\n",
       "    </tr>\n",
       "    <tr>\n",
       "      <th>100000005</th>\n",
       "      <td>0</td>\n",
       "      <td>0</td>\n",
       "      <td>53</td>\n",
       "      <td>1</td>\n",
       "      <td>149031</td>\n",
       "      <td>1</td>\n",
       "      <td>1</td>\n",
       "    </tr>\n",
       "    <tr>\n",
       "      <th>100000006</th>\n",
       "      <td>0</td>\n",
       "      <td>0</td>\n",
       "      <td>35</td>\n",
       "      <td>1</td>\n",
       "      <td>144848</td>\n",
       "      <td>0</td>\n",
       "      <td>0</td>\n",
       "    </tr>\n",
       "    <tr>\n",
       "      <th>100000007</th>\n",
       "      <td>0</td>\n",
       "      <td>0</td>\n",
       "      <td>53</td>\n",
       "      <td>1</td>\n",
       "      <td>156495</td>\n",
       "      <td>1</td>\n",
       "      <td>1</td>\n",
       "    </tr>\n",
       "  </tbody>\n",
       "</table>\n",
       "</div>"
      ],
      "text/plain": [
       "           Sex  Marital status  Age  Education  Income  Occupation  \\\n",
       "ID                                                                   \n",
       "100000001    0               0   67          2  124670           1   \n",
       "100000004    0               0   45          1  171565           1   \n",
       "100000005    0               0   53          1  149031           1   \n",
       "100000006    0               0   35          1  144848           0   \n",
       "100000007    0               0   53          1  156495           1   \n",
       "\n",
       "           Settlement size  \n",
       "ID                          \n",
       "100000001                2  \n",
       "100000004                1  \n",
       "100000005                1  \n",
       "100000006                0  \n",
       "100000007                1  "
      ]
     },
     "execution_count": 13,
     "metadata": {},
     "output_type": "execute_result"
    }
   ],
   "source": [
    "# Analyse single high earners\n",
    "\n",
    "single_higher_income = seg[(seg['Income'] > 120000) & (seg['Marital status'] == 0)]\n",
    "single_higher_income.head()"
   ]
  },
  {
   "cell_type": "code",
   "execution_count": 14,
   "id": "607e4929",
   "metadata": {},
   "outputs": [
    {
     "data": {
      "text/plain": [
       "0    463\n",
       "1     27\n",
       "Name: Sex, dtype: int64"
      ]
     },
     "execution_count": 14,
     "metadata": {},
     "output_type": "execute_result"
    }
   ],
   "source": [
    "single_higher_income['Sex'].value_counts()"
   ]
  },
  {
   "cell_type": "code",
   "execution_count": 15,
   "id": "769abb3f",
   "metadata": {},
   "outputs": [
    {
     "data": {
      "text/plain": [
       "0.9448979591836735"
      ]
     },
     "execution_count": 15,
     "metadata": {},
     "output_type": "execute_result"
    }
   ],
   "source": [
    "463/490"
   ]
  },
  {
   "cell_type": "code",
   "execution_count": 16,
   "id": "6397a6bc",
   "metadata": {},
   "outputs": [
    {
     "data": {
      "image/png": "[encoded data removed]",
      "text/plain": [
       "<Figure size 432x288 with 1 Axes>"
      ]
     },
     "metadata": {
      "needs_background": "light"
     },
     "output_type": "display_data"
    }
   ],
   "source": [
    "single_higher_income['Sex'].value_counts().plot(kind='bar', color=['Salmon', 'lightgreen'])\n",
    "plt.title('Gender Breakdown of Single High Earners')\n",
    "plt.xticks(rotation=1)\n",
    "plt.xlabel('Gender:   0=Male   1=Female');"
   ]
  },
  {
   "cell_type": "code",
   "execution_count": 17,
   "id": "2f1e0977",
   "metadata": {},
   "outputs": [
    {
     "data": {
      "text/html": [
       "<div>\n",
       "<style scoped>\n",
       "    .dataframe tbody tr th:only-of-type {\n",
       "        vertical-align: middle;\n",
       "    }\n",
       "\n",
       "    .dataframe tbody tr th {\n",
       "        vertical-align: top;\n",
       "    }\n",
       "\n",
       "    .dataframe thead th {\n",
       "        text-align: right;\n",
       "    }\n",
       "</style>\n",
       "<table border=\"1\" class=\"dataframe\">\n",
       "  <thead>\n",
       "    <tr style=\"text-align: right;\">\n",
       "      <th></th>\n",
       "      <th>Sex</th>\n",
       "      <th>Marital status</th>\n",
       "      <th>Age</th>\n",
       "      <th>Education</th>\n",
       "      <th>Income</th>\n",
       "      <th>Occupation</th>\n",
       "      <th>Settlement size</th>\n",
       "    </tr>\n",
       "    <tr>\n",
       "      <th>ID</th>\n",
       "      <th></th>\n",
       "      <th></th>\n",
       "      <th></th>\n",
       "      <th></th>\n",
       "      <th></th>\n",
       "      <th></th>\n",
       "      <th></th>\n",
       "    </tr>\n",
       "  </thead>\n",
       "  <tbody>\n",
       "    <tr>\n",
       "      <th>100000002</th>\n",
       "      <td>1</td>\n",
       "      <td>1</td>\n",
       "      <td>22</td>\n",
       "      <td>1</td>\n",
       "      <td>150773</td>\n",
       "      <td>1</td>\n",
       "      <td>2</td>\n",
       "    </tr>\n",
       "    <tr>\n",
       "      <th>100000009</th>\n",
       "      <td>0</td>\n",
       "      <td>1</td>\n",
       "      <td>61</td>\n",
       "      <td>2</td>\n",
       "      <td>151591</td>\n",
       "      <td>0</td>\n",
       "      <td>0</td>\n",
       "    </tr>\n",
       "    <tr>\n",
       "      <th>100000010</th>\n",
       "      <td>0</td>\n",
       "      <td>1</td>\n",
       "      <td>28</td>\n",
       "      <td>1</td>\n",
       "      <td>174646</td>\n",
       "      <td>2</td>\n",
       "      <td>0</td>\n",
       "    </tr>\n",
       "    <tr>\n",
       "      <th>100000012</th>\n",
       "      <td>1</td>\n",
       "      <td>1</td>\n",
       "      <td>24</td>\n",
       "      <td>1</td>\n",
       "      <td>127596</td>\n",
       "      <td>1</td>\n",
       "      <td>0</td>\n",
       "    </tr>\n",
       "    <tr>\n",
       "      <th>100000019</th>\n",
       "      <td>1</td>\n",
       "      <td>1</td>\n",
       "      <td>44</td>\n",
       "      <td>2</td>\n",
       "      <td>261952</td>\n",
       "      <td>2</td>\n",
       "      <td>2</td>\n",
       "    </tr>\n",
       "  </tbody>\n",
       "</table>\n",
       "</div>"
      ],
      "text/plain": [
       "           Sex  Marital status  Age  Education  Income  Occupation  \\\n",
       "ID                                                                   \n",
       "100000002    1               1   22          1  150773           1   \n",
       "100000009    0               1   61          2  151591           0   \n",
       "100000010    0               1   28          1  174646           2   \n",
       "100000012    1               1   24          1  127596           1   \n",
       "100000019    1               1   44          2  261952           2   \n",
       "\n",
       "           Settlement size  \n",
       "ID                          \n",
       "100000002                2  \n",
       "100000009                0  \n",
       "100000010                0  \n",
       "100000012                0  \n",
       "100000019                2  "
      ]
     },
     "execution_count": 17,
     "metadata": {},
     "output_type": "execute_result"
    }
   ],
   "source": [
    "# Analyse non single high earners\n",
    "\n",
    "non_single_higher_income = seg[(seg['Income'] > 120000) & (seg['Marital status'] == 1)]\n",
    "non_single_higher_income.head()"
   ]
  },
  {
   "cell_type": "code",
   "execution_count": 18,
   "id": "0ecf78cc",
   "metadata": {},
   "outputs": [
    {
     "data": {
      "text/plain": [
       "1    288\n",
       "0    119\n",
       "Name: Sex, dtype: int64"
      ]
     },
     "execution_count": 18,
     "metadata": {},
     "output_type": "execute_result"
    }
   ],
   "source": [
    "non_single_higher_income['Sex'].value_counts()"
   ]
  },
  {
   "cell_type": "code",
   "execution_count": 19,
   "id": "f35c1854",
   "metadata": {},
   "outputs": [
    {
     "data": {
      "text/plain": [
       "0.7076167076167076"
      ]
     },
     "execution_count": 19,
     "metadata": {},
     "output_type": "execute_result"
    }
   ],
   "source": [
    "288/407"
   ]
  },
  {
   "cell_type": "code",
   "execution_count": 20,
   "id": "d657a8f9",
   "metadata": {},
   "outputs": [
    {
     "data": {
      "image/png": "[encoded data removed]",
      "text/plain": [
       "<Figure size 432x288 with 1 Axes>"
      ]
     },
     "metadata": {
      "needs_background": "light"
     },
     "output_type": "display_data"
    }
   ],
   "source": [
    "non_single_higher_income['Sex'].value_counts().plot(kind='bar', color=['Salmon', 'lightgreen'])\n",
    "plt.title('Gender Breakdown of Non Single High Earners')\n",
    "plt.xticks(rotation=1)\n",
    "plt.xlabel('Gender:   1=Female,  0=Male');"
   ]
  },
  {
   "cell_type": "code",
   "execution_count": 21,
   "id": "65e4f5bf",
   "metadata": {},
   "outputs": [],
   "source": [
    "#The data shows that men have high income when single and woman have high income when not single."
   ]
  },
  {
   "cell_type": "code",
   "execution_count": 22,
   "id": "537c2b34",
   "metadata": {},
   "outputs": [
    {
     "data": {
      "text/html": [
       "<div>\n",
       "<style scoped>\n",
       "    .dataframe tbody tr th:only-of-type {\n",
       "        vertical-align: middle;\n",
       "    }\n",
       "\n",
       "    .dataframe tbody tr th {\n",
       "        vertical-align: top;\n",
       "    }\n",
       "\n",
       "    .dataframe thead th {\n",
       "        text-align: right;\n",
       "    }\n",
       "</style>\n",
       "<table border=\"1\" class=\"dataframe\">\n",
       "  <thead>\n",
       "    <tr style=\"text-align: right;\">\n",
       "      <th>Sex</th>\n",
       "      <th>0</th>\n",
       "      <th>1</th>\n",
       "    </tr>\n",
       "    <tr>\n",
       "      <th>Settlement size</th>\n",
       "      <th></th>\n",
       "      <th></th>\n",
       "    </tr>\n",
       "  </thead>\n",
       "  <tbody>\n",
       "    <tr>\n",
       "      <th>0</th>\n",
       "      <td>71</td>\n",
       "      <td>20</td>\n",
       "    </tr>\n",
       "    <tr>\n",
       "      <th>1</th>\n",
       "      <td>177</td>\n",
       "      <td>7</td>\n",
       "    </tr>\n",
       "    <tr>\n",
       "      <th>2</th>\n",
       "      <td>215</td>\n",
       "      <td>0</td>\n",
       "    </tr>\n",
       "  </tbody>\n",
       "</table>\n",
       "</div>"
      ],
      "text/plain": [
       "Sex                0   1\n",
       "Settlement size         \n",
       "0                 71  20\n",
       "1                177   7\n",
       "2                215   0"
      ]
     },
     "execution_count": 22,
     "metadata": {},
     "output_type": "execute_result"
    }
   ],
   "source": [
    "pd.crosstab(single_higher_income['Settlement size'], single_higher_income['Sex'])"
   ]
  },
  {
   "cell_type": "code",
   "execution_count": 23,
   "id": "e4eea9a2",
   "metadata": {},
   "outputs": [
    {
     "data": {
      "image/png": "[encoded data removed]",
      "text/plain": [
       "<Figure size 432x288 with 1 Axes>"
      ]
     },
     "metadata": {
      "needs_background": "light"
     },
     "output_type": "display_data"
    }
   ],
   "source": [
    "#Analyse further the single high earners\n",
    "\n",
    "pd.crosstab(single_higher_income['Settlement size'], single_higher_income['Sex']).plot(kind='bar', color=['salmon', 'lightblue'])\n",
    "plt.xticks(rotation=1)\n",
    "plt.xlabel('0=Small City    1=Mid size city    2=Large city')\n",
    "plt.ylabel('Amount')\n",
    "plt.legend(['0=Male',  '1=Female'])\n",
    "plt.title('City Size and Gender Breakdown of Single High Earners');"
   ]
  },
  {
   "cell_type": "code",
   "execution_count": 24,
   "id": "c20bf825",
   "metadata": {},
   "outputs": [
    {
     "data": {
      "image/png": "[encoded data removed]",
      "text/plain": [
       "<Figure size 432x288 with 1 Axes>"
      ]
     },
     "metadata": {
      "needs_background": "light"
     },
     "output_type": "display_data"
    }
   ],
   "source": [
    "#Analyse further the non single high earners\n",
    "\n",
    "pd.crosstab(non_single_higher_income['Settlement size'], non_single_higher_income['Sex']).plot(kind='bar', color=['salmon', 'lightblue'])\n",
    "plt.xticks(rotation=1)\n",
    "plt.xlabel('0=Small City    1=Mid size city    2=Large city')\n",
    "plt.ylabel('Amount')\n",
    "plt.legend(['0=Male',  '1=Female'])\n",
    "plt.title('City Size and Gender Breakdown of Non Single High Earners');"
   ]
  },
  {
   "cell_type": "code",
   "execution_count": 25,
   "id": "43b670b7",
   "metadata": {},
   "outputs": [
    {
     "data": {
      "text/html": [
       "<div>\n",
       "<style scoped>\n",
       "    .dataframe tbody tr th:only-of-type {\n",
       "        vertical-align: middle;\n",
       "    }\n",
       "\n",
       "    .dataframe tbody tr th {\n",
       "        vertical-align: top;\n",
       "    }\n",
       "\n",
       "    .dataframe thead th {\n",
       "        text-align: right;\n",
       "    }\n",
       "</style>\n",
       "<table border=\"1\" class=\"dataframe\">\n",
       "  <thead>\n",
       "    <tr style=\"text-align: right;\">\n",
       "      <th></th>\n",
       "      <th>Sex</th>\n",
       "      <th>Marital status</th>\n",
       "      <th>Age</th>\n",
       "      <th>Education</th>\n",
       "      <th>Income</th>\n",
       "      <th>Occupation</th>\n",
       "      <th>Settlement size</th>\n",
       "    </tr>\n",
       "  </thead>\n",
       "  <tbody>\n",
       "    <tr>\n",
       "      <th>Sex</th>\n",
       "      <td>1.000000</td>\n",
       "      <td>0.566511</td>\n",
       "      <td>-0.182885</td>\n",
       "      <td>0.244838</td>\n",
       "      <td>-0.195146</td>\n",
       "      <td>-0.202491</td>\n",
       "      <td>-0.300803</td>\n",
       "    </tr>\n",
       "    <tr>\n",
       "      <th>Marital status</th>\n",
       "      <td>0.566511</td>\n",
       "      <td>1.000000</td>\n",
       "      <td>-0.213178</td>\n",
       "      <td>0.374017</td>\n",
       "      <td>-0.073528</td>\n",
       "      <td>-0.029490</td>\n",
       "      <td>-0.097041</td>\n",
       "    </tr>\n",
       "    <tr>\n",
       "      <th>Age</th>\n",
       "      <td>-0.182885</td>\n",
       "      <td>-0.213178</td>\n",
       "      <td>1.000000</td>\n",
       "      <td>0.654605</td>\n",
       "      <td>0.340610</td>\n",
       "      <td>0.108388</td>\n",
       "      <td>0.119751</td>\n",
       "    </tr>\n",
       "    <tr>\n",
       "      <th>Education</th>\n",
       "      <td>0.244838</td>\n",
       "      <td>0.374017</td>\n",
       "      <td>0.654605</td>\n",
       "      <td>1.000000</td>\n",
       "      <td>0.233459</td>\n",
       "      <td>0.064524</td>\n",
       "      <td>0.034732</td>\n",
       "    </tr>\n",
       "    <tr>\n",
       "      <th>Income</th>\n",
       "      <td>-0.195146</td>\n",
       "      <td>-0.073528</td>\n",
       "      <td>0.340610</td>\n",
       "      <td>0.233459</td>\n",
       "      <td>1.000000</td>\n",
       "      <td>0.680357</td>\n",
       "      <td>0.490881</td>\n",
       "    </tr>\n",
       "    <tr>\n",
       "      <th>Occupation</th>\n",
       "      <td>-0.202491</td>\n",
       "      <td>-0.029490</td>\n",
       "      <td>0.108388</td>\n",
       "      <td>0.064524</td>\n",
       "      <td>0.680357</td>\n",
       "      <td>1.000000</td>\n",
       "      <td>0.571795</td>\n",
       "    </tr>\n",
       "    <tr>\n",
       "      <th>Settlement size</th>\n",
       "      <td>-0.300803</td>\n",
       "      <td>-0.097041</td>\n",
       "      <td>0.119751</td>\n",
       "      <td>0.034732</td>\n",
       "      <td>0.490881</td>\n",
       "      <td>0.571795</td>\n",
       "      <td>1.000000</td>\n",
       "    </tr>\n",
       "  </tbody>\n",
       "</table>\n",
       "</div>"
      ],
      "text/plain": [
       "                      Sex  Marital status       Age  Education    Income  \\\n",
       "Sex              1.000000        0.566511 -0.182885   0.244838 -0.195146   \n",
       "Marital status   0.566511        1.000000 -0.213178   0.374017 -0.073528   \n",
       "Age             -0.182885       -0.213178  1.000000   0.654605  0.340610   \n",
       "Education        0.244838        0.374017  0.654605   1.000000  0.233459   \n",
       "Income          -0.195146       -0.073528  0.340610   0.233459  1.000000   \n",
       "Occupation      -0.202491       -0.029490  0.108388   0.064524  0.680357   \n",
       "Settlement size -0.300803       -0.097041  0.119751   0.034732  0.490881   \n",
       "\n",
       "                 Occupation  Settlement size  \n",
       "Sex               -0.202491        -0.300803  \n",
       "Marital status    -0.029490        -0.097041  \n",
       "Age                0.108388         0.119751  \n",
       "Education          0.064524         0.034732  \n",
       "Income             0.680357         0.490881  \n",
       "Occupation         1.000000         0.571795  \n",
       "Settlement size    0.571795         1.000000  "
      ]
     },
     "execution_count": 25,
     "metadata": {},
     "output_type": "execute_result"
    }
   ],
   "source": [
    "# Analyse how the columns correlate (dependancies) to one another\n",
    "\n",
    "corr_matrix = seg.corr()\n",
    "corr_matrix\n",
    "\n",
    "# A strong positive correlation between 'Age' and 'Education' where the older the customer, the more educated.\n",
    "# A strong positive correlation between 'Occupation' and 'Income' where the more highly skilled the more higher the salary."
   ]
  },
  {
   "cell_type": "code",
   "execution_count": 26,
   "id": "c58ff299",
   "metadata": {},
   "outputs": [
    {
     "data": {
      "text/plain": [
       "<Figure size 864x432 with 0 Axes>"
      ]
     },
     "metadata": {},
     "output_type": "display_data"
    },
    {
     "data": {
      "image/png": "[encoded data removed]",
      "text/plain": [
       "<Figure size 1080x432 with 2 Axes>"
      ]
     },
     "metadata": {
      "needs_background": "light"
     },
     "output_type": "display_data"
    }
   ],
   "source": [
    "plt.figure(figsize = (12, 6))\n",
    "\n",
    "fig, ax = plt.subplots(figsize=(15,6))\n",
    "ax = sns.heatmap(corr_matrix, annot =True, cmap='RdBu', linewidths=0.5, fmt='.2f', vmin= -1, vmax=1)\n",
    "plt.title('Correlation Heatmap');\n",
    "\n",
    "# Additional positive correlations are 'Occupation' and 'Settlement size'"
   ]
  },
  {
   "cell_type": "code",
   "execution_count": 27,
   "id": "01dc7909",
   "metadata": {},
   "outputs": [
    {
     "data": {
      "image/png": "[encoded data removed]",
      "text/plain": [
       "<Figure size 864x432 with 1 Axes>"
      ]
     },
     "metadata": {
      "needs_background": "light"
     },
     "output_type": "display_data"
    }
   ],
   "source": [
    "pd.crosstab(seg['Occupation'], seg['Settlement size']).plot(kind='bar', figsize=(12,6), color=['salmon', 'lightgreen'])\n",
    "plt.xticks(rotation=1)\n",
    "plt.xlabel('Occupation:   0=Unemployed    1=Skilled  2=Highly qualified')\n",
    "plt.ylabel('Amount')\n",
    "plt.legend(['0=Small city', '1=Mid size city', '2=Big city'])\n",
    "plt.title('Positve Correlation between Occupation and City Size');"
   ]
  },
  {
   "cell_type": "code",
   "execution_count": 28,
   "id": "26d799fd",
   "metadata": {},
   "outputs": [
    {
     "data": {
      "image/png": "[encoded data removed]",
      "text/plain": [
       "<Figure size 864x432 with 1 Axes>"
      ]
     },
     "metadata": {
      "needs_background": "light"
     },
     "output_type": "display_data"
    }
   ],
   "source": [
    "# Analyse negative correlated columns, 'Age' and 'Income'\n",
    "\n",
    "plt.figure(figsize = (12, 6))\n",
    "\n",
    "plt.scatter(seg.iloc[:, 2], seg.iloc[:,4])\n",
    "plt.xlabel('Age')\n",
    "plt.ylabel('Income')\n",
    "plt.title('Age and Income Data');"
   ]
  },
  {
   "cell_type": "markdown",
   "id": "2e8fdad4",
   "metadata": {},
   "source": [
    "## Patterns in the dataset\n",
    "\n",
    "The dataset has 2000 observations in total.\n",
    "\n",
    "54% of the dataset is male.\n",
    "\n",
    "The dataset shows an average age of 36.\n",
    "\n",
    "The dataset shows an average income of 121,000.\n",
    "\n",
    "A large proprtion of the dataset contains customers which are skilled (not qualified) with high school education (only).\n",
    "\n",
    "There is almost an equal split of single and non single customers.\n",
    "\n",
    "The dataset shows a significant proportion of unemployed customers from small cities.\n",
    "\n",
    "There is a positive correlation between the 'Age' and 'Education' column.\n",
    "\n",
    "There is a positive correlation between the 'Occupation' and 'Income' column.\n",
    "\n",
    "There is a positive correlation between the 'Occupation' and 'Settlement size' column.\n",
    "\n",
    "490 customers are single high earners where they earn above the average income of 120,000. 94% of these customers are male\n",
    "and from large cities.\n",
    "\n",
    "407 customers are non single high earners where they earn above the average income of 120,000. 71% of these customers are \n",
    "female and from small cities."
   ]
  },
  {
   "cell_type": "code",
   "execution_count": 30,
   "id": "060ff81e",
   "metadata": {},
   "outputs": [],
   "source": [
    "## Standardising the data\n",
    "\n",
    "scaler = StandardScaler()\n",
    "\n",
    "seg_std = scaler.fit_transform(seg)"
   ]
  },
  {
   "cell_type": "markdown",
   "id": "d6b7b047",
   "metadata": {},
   "source": [
    "## K-Means Clustering"
   ]
  },
  {
   "cell_type": "code",
   "execution_count": 33,
   "id": "04fcc0c9",
   "metadata": {},
   "outputs": [],
   "source": [
    "# Determining the number of clusters\n",
    "\n",
    "km = []\n",
    "for i in range(1, 11):  # Run the code with 10 iterations\n",
    "    kmeans = KMeans(n_clusters = i,  init='k-means++', random_state = 42)\n",
    "    kmeans.fit(seg_std)\n",
    "    km.append(kmeans.inertia_)"
   ]
  },
  {
   "cell_type": "code",
   "execution_count": 36,
   "id": "c9f2d501",
   "metadata": {},
   "outputs": [
    {
     "data": {
      "image/png": "[encoded data removed]",
      "text/plain": [
       "<Figure size 720x432 with 1 Axes>"
      ]
     },
     "metadata": {
      "needs_background": "light"
     },
     "output_type": "display_data"
    }
   ],
   "source": [
    "# Plot the results\n",
    "\n",
    "plt.figure(figsize=(10,6))\n",
    "\n",
    "plt.plot(range(1, 11), km, marker= 'o', linestyle = '--')\n",
    "plt.xlabel('Number of Cluster')\n",
    "plt.ylabel('km')\n",
    "plt.title('K-Means Clustering');\n",
    "\n",
    "# The graph states that the number of clusters within the dataset is 4."
   ]
  },
  {
   "cell_type": "code",
   "execution_count": 40,
   "id": "3527ea2b",
   "metadata": {},
   "outputs": [
    {
     "data": {
      "text/plain": [
       "KMeans(n_clusters=4, random_state=42)"
      ]
     },
     "execution_count": 40,
     "metadata": {},
     "output_type": "execute_result"
    }
   ],
   "source": [
    "# Implementing the K_Means model with 4 clusters\n",
    "\n",
    "kmeans = KMeans(n_clusters = 4, init = 'k-means++', random_state = 42)\n",
    "kmeans.fit(seg_std)"
   ]
  },
  {
   "cell_type": "markdown",
   "id": "26a800d9",
   "metadata": {},
   "source": [
    "### Analyse The Results"
   ]
  },
  {
   "cell_type": "code",
   "execution_count": 47,
   "id": "10f404e4",
   "metadata": {},
   "outputs": [],
   "source": [
    "# Make a copy of the original dataset\n",
    "\n",
    "df_seg_kmeans = seg.copy()   \n",
    "\n",
    "# Add a column which will contain the predicted clusters for each observation. Extract with 'kmeans.labels'.\n",
    "\n",
    "df_seg_kmeans['Segment K-Means'] = kmeans.labels_  "
   ]
  },
  {
   "cell_type": "code",
   "execution_count": 49,
   "id": "19101614",
   "metadata": {},
   "outputs": [
    {
     "data": {
      "text/html": [
       "<div>\n",
       "<style scoped>\n",
       "    .dataframe tbody tr th:only-of-type {\n",
       "        vertical-align: middle;\n",
       "    }\n",
       "\n",
       "    .dataframe tbody tr th {\n",
       "        vertical-align: top;\n",
       "    }\n",
       "\n",
       "    .dataframe thead th {\n",
       "        text-align: right;\n",
       "    }\n",
       "</style>\n",
       "<table border=\"1\" class=\"dataframe\">\n",
       "  <thead>\n",
       "    <tr style=\"text-align: right;\">\n",
       "      <th></th>\n",
       "      <th>Sex</th>\n",
       "      <th>Marital status</th>\n",
       "      <th>Age</th>\n",
       "      <th>Education</th>\n",
       "      <th>Income</th>\n",
       "      <th>Occupation</th>\n",
       "      <th>Settlement size</th>\n",
       "    </tr>\n",
       "    <tr>\n",
       "      <th>Segment K-Means</th>\n",
       "      <th></th>\n",
       "      <th></th>\n",
       "      <th></th>\n",
       "      <th></th>\n",
       "      <th></th>\n",
       "      <th></th>\n",
       "      <th></th>\n",
       "    </tr>\n",
       "  </thead>\n",
       "  <tbody>\n",
       "    <tr>\n",
       "      <th>0</th>\n",
       "      <td>0.501901</td>\n",
       "      <td>0.692015</td>\n",
       "      <td>55.703422</td>\n",
       "      <td>2.129278</td>\n",
       "      <td>158338.422053</td>\n",
       "      <td>1.129278</td>\n",
       "      <td>1.110266</td>\n",
       "    </tr>\n",
       "    <tr>\n",
       "      <th>1</th>\n",
       "      <td>0.352814</td>\n",
       "      <td>0.019481</td>\n",
       "      <td>35.577922</td>\n",
       "      <td>0.746753</td>\n",
       "      <td>97859.852814</td>\n",
       "      <td>0.329004</td>\n",
       "      <td>0.043290</td>\n",
       "    </tr>\n",
       "    <tr>\n",
       "      <th>2</th>\n",
       "      <td>0.853901</td>\n",
       "      <td>0.997163</td>\n",
       "      <td>28.963121</td>\n",
       "      <td>1.068085</td>\n",
       "      <td>105759.119149</td>\n",
       "      <td>0.634043</td>\n",
       "      <td>0.422695</td>\n",
       "    </tr>\n",
       "    <tr>\n",
       "      <th>3</th>\n",
       "      <td>0.029825</td>\n",
       "      <td>0.173684</td>\n",
       "      <td>35.635088</td>\n",
       "      <td>0.733333</td>\n",
       "      <td>141218.249123</td>\n",
       "      <td>1.271930</td>\n",
       "      <td>1.522807</td>\n",
       "    </tr>\n",
       "  </tbody>\n",
       "</table>\n",
       "</div>"
      ],
      "text/plain": [
       "                      Sex  Marital status        Age  Education  \\\n",
       "Segment K-Means                                                   \n",
       "0                0.501901        0.692015  55.703422   2.129278   \n",
       "1                0.352814        0.019481  35.577922   0.746753   \n",
       "2                0.853901        0.997163  28.963121   1.068085   \n",
       "3                0.029825        0.173684  35.635088   0.733333   \n",
       "\n",
       "                        Income  Occupation  Settlement size  \n",
       "Segment K-Means                                              \n",
       "0                158338.422053    1.129278         1.110266  \n",
       "1                 97859.852814    0.329004         0.043290  \n",
       "2                105759.119149    0.634043         0.422695  \n",
       "3                141218.249123    1.271930         1.522807  "
      ]
     },
     "execution_count": 49,
     "metadata": {},
     "output_type": "execute_result"
    }
   ],
   "source": [
    "# Group the dataset by the 4 clusters\n",
    "\n",
    "df_seg_analysis = df_seg_kmeans.groupby(['Segment K-Means']).mean()\n",
    "df_seg_analysis"
   ]
  },
  {
   "cell_type": "markdown",
   "id": "e9c3612a",
   "metadata": {},
   "source": [
    "Interpret the clusters\n",
    "\n",
    "1st cluster ('Well-off'): \n",
    "    Contains almost an equal split of men and woman with an average age of 56, This is the 'oldest' segement out of the\n",
    "    clusters. The customers have a high level of education aswell as the highest average income. Over two thirds of the\n",
    "    customers are in relationships.\n",
    "    \n",
    "2nd cluster ('Fewer Opportunities'):\n",
    "    Almost all customers are single and just over a third are men. Their average age is 36 and thir education level is low compared to other segments.\n",
    "    They leave almost exclusively in small citites and they have the lowest income. \n",
    "    \n",
    "3rd cluster ('Standard'):  \n",
    "    These are customers in relationships with an average age of 29. This is the youngest segment. They have a meduim\n",
    "    level of education, income and middle management jobs. They equally distributed between small, medium and big cities.\n",
    "    About 85% are woman.\n",
    "    \n",
    "4th cluster ('Carerr Focussed'):\n",
    "    Contains mostly men at the average age of 35. Less than 20% are in relationships. Thet have a low level education\n",
    "    and high values for income and occupation. The majority live in big and middle size cities.  \n",
    "                                                                                                 "
   ]
  },
  {
   "cell_type": "code",
   "execution_count": 56,
   "id": "057acc51",
   "metadata": {},
   "outputs": [],
   "source": [
    "# Analyse the number of observations per clusters (size of each cluster)\n",
    "\n",
    "df_seg_analysis['No. of Observations'] = df_seg_kmeans[['Segment K-Means', 'Sex']].groupby(['Segment K-Means']).count()"
   ]
  },
  {
   "cell_type": "code",
   "execution_count": 64,
   "id": "529facca",
   "metadata": {},
   "outputs": [],
   "source": [
    "# Analyse the proportions of the clusters compared to the entire dataset\n",
    "\n",
    "df_seg_analysis['Proportions of Obs %'] = df_seg_analysis['No. of Observations'] / df_seg_analysis['No. of Observations'].sum()"
   ]
  },
  {
   "cell_type": "code",
   "execution_count": 65,
   "id": "7db218d1",
   "metadata": {},
   "outputs": [
    {
     "data": {
      "text/html": [
       "<div>\n",
       "<style scoped>\n",
       "    .dataframe tbody tr th:only-of-type {\n",
       "        vertical-align: middle;\n",
       "    }\n",
       "\n",
       "    .dataframe tbody tr th {\n",
       "        vertical-align: top;\n",
       "    }\n",
       "\n",
       "    .dataframe thead th {\n",
       "        text-align: right;\n",
       "    }\n",
       "</style>\n",
       "<table border=\"1\" class=\"dataframe\">\n",
       "  <thead>\n",
       "    <tr style=\"text-align: right;\">\n",
       "      <th></th>\n",
       "      <th>Sex</th>\n",
       "      <th>Marital status</th>\n",
       "      <th>Age</th>\n",
       "      <th>Education</th>\n",
       "      <th>Income</th>\n",
       "      <th>Occupation</th>\n",
       "      <th>Settlement size</th>\n",
       "      <th>No. of Observations</th>\n",
       "      <th>Proportions of Obs</th>\n",
       "      <th>Proportions of Obs %</th>\n",
       "    </tr>\n",
       "    <tr>\n",
       "      <th>Segment K-Means</th>\n",
       "      <th></th>\n",
       "      <th></th>\n",
       "      <th></th>\n",
       "      <th></th>\n",
       "      <th></th>\n",
       "      <th></th>\n",
       "      <th></th>\n",
       "      <th></th>\n",
       "      <th></th>\n",
       "      <th></th>\n",
       "    </tr>\n",
       "  </thead>\n",
       "  <tbody>\n",
       "    <tr>\n",
       "      <th>0</th>\n",
       "      <td>0.501901</td>\n",
       "      <td>0.692015</td>\n",
       "      <td>55.703422</td>\n",
       "      <td>2.129278</td>\n",
       "      <td>158338.422053</td>\n",
       "      <td>1.129278</td>\n",
       "      <td>1.110266</td>\n",
       "      <td>263</td>\n",
       "      <td>0.1315</td>\n",
       "      <td>0.1315</td>\n",
       "    </tr>\n",
       "    <tr>\n",
       "      <th>1</th>\n",
       "      <td>0.352814</td>\n",
       "      <td>0.019481</td>\n",
       "      <td>35.577922</td>\n",
       "      <td>0.746753</td>\n",
       "      <td>97859.852814</td>\n",
       "      <td>0.329004</td>\n",
       "      <td>0.043290</td>\n",
       "      <td>462</td>\n",
       "      <td>0.2310</td>\n",
       "      <td>0.2310</td>\n",
       "    </tr>\n",
       "    <tr>\n",
       "      <th>2</th>\n",
       "      <td>0.853901</td>\n",
       "      <td>0.997163</td>\n",
       "      <td>28.963121</td>\n",
       "      <td>1.068085</td>\n",
       "      <td>105759.119149</td>\n",
       "      <td>0.634043</td>\n",
       "      <td>0.422695</td>\n",
       "      <td>705</td>\n",
       "      <td>0.3525</td>\n",
       "      <td>0.3525</td>\n",
       "    </tr>\n",
       "    <tr>\n",
       "      <th>3</th>\n",
       "      <td>0.029825</td>\n",
       "      <td>0.173684</td>\n",
       "      <td>35.635088</td>\n",
       "      <td>0.733333</td>\n",
       "      <td>141218.249123</td>\n",
       "      <td>1.271930</td>\n",
       "      <td>1.522807</td>\n",
       "      <td>570</td>\n",
       "      <td>0.2850</td>\n",
       "      <td>0.2850</td>\n",
       "    </tr>\n",
       "  </tbody>\n",
       "</table>\n",
       "</div>"
      ],
      "text/plain": [
       "                      Sex  Marital status        Age  Education  \\\n",
       "Segment K-Means                                                   \n",
       "0                0.501901        0.692015  55.703422   2.129278   \n",
       "1                0.352814        0.019481  35.577922   0.746753   \n",
       "2                0.853901        0.997163  28.963121   1.068085   \n",
       "3                0.029825        0.173684  35.635088   0.733333   \n",
       "\n",
       "                        Income  Occupation  Settlement size  \\\n",
       "Segment K-Means                                               \n",
       "0                158338.422053    1.129278         1.110266   \n",
       "1                 97859.852814    0.329004         0.043290   \n",
       "2                105759.119149    0.634043         0.422695   \n",
       "3                141218.249123    1.271930         1.522807   \n",
       "\n",
       "                 No. of Observations  Proportions of Obs  Proportions of Obs %  \n",
       "Segment K-Means                                                                 \n",
       "0                                263              0.1315                0.1315  \n",
       "1                                462              0.2310                0.2310  \n",
       "2                                705              0.3525                0.3525  \n",
       "3                                570              0.2850                0.2850  "
      ]
     },
     "execution_count": 65,
     "metadata": {},
     "output_type": "execute_result"
    }
   ],
   "source": [
    "df_seg_analysis"
   ]
  },
  {
   "cell_type": "code",
   "execution_count": 75,
   "id": "f7d0883a",
   "metadata": {},
   "outputs": [
    {
     "data": {
      "text/html": [
       "<div>\n",
       "<style scoped>\n",
       "    .dataframe tbody tr th:only-of-type {\n",
       "        vertical-align: middle;\n",
       "    }\n",
       "\n",
       "    .dataframe tbody tr th {\n",
       "        vertical-align: top;\n",
       "    }\n",
       "\n",
       "    .dataframe thead th {\n",
       "        text-align: right;\n",
       "    }\n",
       "</style>\n",
       "<table border=\"1\" class=\"dataframe\">\n",
       "  <thead>\n",
       "    <tr style=\"text-align: right;\">\n",
       "      <th></th>\n",
       "      <th>Sex</th>\n",
       "      <th>Marital status</th>\n",
       "      <th>Age</th>\n",
       "      <th>Education</th>\n",
       "      <th>Income</th>\n",
       "      <th>Occupation</th>\n",
       "      <th>Settlement size</th>\n",
       "      <th>No. of Observations</th>\n",
       "      <th>Proportions of Obs %</th>\n",
       "    </tr>\n",
       "    <tr>\n",
       "      <th>Segment K-Means</th>\n",
       "      <th></th>\n",
       "      <th></th>\n",
       "      <th></th>\n",
       "      <th></th>\n",
       "      <th></th>\n",
       "      <th></th>\n",
       "      <th></th>\n",
       "      <th></th>\n",
       "      <th></th>\n",
       "    </tr>\n",
       "  </thead>\n",
       "  <tbody>\n",
       "    <tr>\n",
       "      <th>Well-off</th>\n",
       "      <td>0.501901</td>\n",
       "      <td>0.692015</td>\n",
       "      <td>55.703422</td>\n",
       "      <td>2.129278</td>\n",
       "      <td>158338.422053</td>\n",
       "      <td>1.129278</td>\n",
       "      <td>1.110266</td>\n",
       "      <td>263</td>\n",
       "      <td>0.1315</td>\n",
       "    </tr>\n",
       "    <tr>\n",
       "      <th>Fewer-Opportunities</th>\n",
       "      <td>0.352814</td>\n",
       "      <td>0.019481</td>\n",
       "      <td>35.577922</td>\n",
       "      <td>0.746753</td>\n",
       "      <td>97859.852814</td>\n",
       "      <td>0.329004</td>\n",
       "      <td>0.043290</td>\n",
       "      <td>462</td>\n",
       "      <td>0.2310</td>\n",
       "    </tr>\n",
       "    <tr>\n",
       "      <th>Standard</th>\n",
       "      <td>0.853901</td>\n",
       "      <td>0.997163</td>\n",
       "      <td>28.963121</td>\n",
       "      <td>1.068085</td>\n",
       "      <td>105759.119149</td>\n",
       "      <td>0.634043</td>\n",
       "      <td>0.422695</td>\n",
       "      <td>705</td>\n",
       "      <td>0.3525</td>\n",
       "    </tr>\n",
       "    <tr>\n",
       "      <th>Career Focussed</th>\n",
       "      <td>0.029825</td>\n",
       "      <td>0.173684</td>\n",
       "      <td>35.635088</td>\n",
       "      <td>0.733333</td>\n",
       "      <td>141218.249123</td>\n",
       "      <td>1.271930</td>\n",
       "      <td>1.522807</td>\n",
       "      <td>570</td>\n",
       "      <td>0.2850</td>\n",
       "    </tr>\n",
       "  </tbody>\n",
       "</table>\n",
       "</div>"
      ],
      "text/plain": [
       "                          Sex  Marital status        Age  Education  \\\n",
       "Segment K-Means                                                       \n",
       "Well-off             0.501901        0.692015  55.703422   2.129278   \n",
       "Fewer-Opportunities  0.352814        0.019481  35.577922   0.746753   \n",
       "Standard             0.853901        0.997163  28.963121   1.068085   \n",
       "Career Focussed      0.029825        0.173684  35.635088   0.733333   \n",
       "\n",
       "                            Income  Occupation  Settlement size  \\\n",
       "Segment K-Means                                                   \n",
       "Well-off             158338.422053    1.129278         1.110266   \n",
       "Fewer-Opportunities   97859.852814    0.329004         0.043290   \n",
       "Standard             105759.119149    0.634043         0.422695   \n",
       "Career Focussed      141218.249123    1.271930         1.522807   \n",
       "\n",
       "                     No. of Observations  Proportions of Obs %  \n",
       "Segment K-Means                                                 \n",
       "Well-off                             263                0.1315  \n",
       "Fewer-Opportunities                  462                0.2310  \n",
       "Standard                             705                0.3525  \n",
       "Career Focussed                      570                0.2850  "
      ]
     },
     "execution_count": 75,
     "metadata": {},
     "output_type": "execute_result"
    }
   ],
   "source": [
    "# Name the segements\n",
    "\n",
    "df_seg_analysis.rename({0: 'Well-off',\n",
    "                        1: 'Fewer-Opportunities',\n",
    "                        2: 'Standard',\n",
    "                        3: 'Career Focussed'})\n"
   ]
  },
  {
   "cell_type": "markdown",
   "id": "737b7d5d",
   "metadata": {},
   "source": [
    "Well-off: With only 263 observations and 13% of the dataset, this cluster is the smallest out of the four.\n",
    "\n",
    "Standard: With 705 observations and 35% of the dataset, this cluster is the largest out of the four.   "
   ]
  },
  {
   "cell_type": "code",
   "execution_count": 81,
   "id": "596ba86c",
   "metadata": {},
   "outputs": [],
   "source": [
    " # Add the cluster names to the non standardised copied dataset \n",
    "    \n",
    "df_seg_kmeans['Labels'] = df_seg_kmeans['Segment K-Means'].map({0: 'Well-off',\n",
    "                                                                1: 'Fewer-Opportunities',\n",
    "                                                                2: 'Standard',\n",
    "                                                                3: 'Career Focussed'})"
   ]
  },
  {
   "cell_type": "code",
   "execution_count": 82,
   "id": "9705831b",
   "metadata": {},
   "outputs": [
    {
     "name": "stderr",
     "output_type": "stream",
     "text": [
      "C:\\Users\\gail_\\Documents\\Customer-Analytics\\.env\\lib\\site-packages\\seaborn\\_decorators.py:36: FutureWarning: Pass the following variables as keyword args: x, y. From version 0.12, the only valid positional argument will be `data`, and passing other arguments without an explicit keyword will result in an error or misinterpretation.\n",
      "  warnings.warn(\n"
     ]
    },
    {
     "data": {
      "image/png": "[encoded data removed]",
      "text/plain": [
       "<Figure size 720x432 with 1 Axes>"
      ]
     },
     "metadata": {
      "needs_background": "light"
     },
     "output_type": "display_data"
    }
   ],
   "source": [
    "# Visualise each cluster\n",
    "\n",
    "plt.figure(figsize=(10,6))\n",
    "\n",
    "x_axis = df_seg_kmeans['Age']\n",
    "y_axis = df_seg_kmeans['Income']\n",
    "\n",
    "sns.scatterplot(x_axis, y_axis, hue = df_seg_kmeans['Labels'], palette = ['g', 'r', 'c', 'm'])\n",
    "plt.title('Customer Segmentation K-Means');\n"
   ]
  },
  {
   "cell_type": "markdown",
   "id": "43bd793f",
   "metadata": {},
   "source": [
    "## K-Means Clustering Combined With Principal Component Analysis (PCA)"
   ]
  },
  {
   "cell_type": "code",
   "execution_count": 88,
   "id": "a0a4f0f3",
   "metadata": {},
   "outputs": [
    {
     "data": {
      "text/plain": [
       "PCA()"
      ]
     },
     "execution_count": 88,
     "metadata": {},
     "output_type": "execute_result"
    }
   ],
   "source": [
    "# Dimension Reduction\n",
    "\n",
    "pca = PCA()\n",
    "\n",
    "pca.fit(seg_std)"
   ]
  },
  {
   "cell_type": "code",
   "execution_count": 89,
   "id": "188d41c6",
   "metadata": {},
   "outputs": [
    {
     "data": {
      "text/plain": [
       "array([0.35696328, 0.26250923, 0.18821114, 0.0755775 , 0.05716512,\n",
       "       0.03954794, 0.02002579])"
      ]
     },
     "execution_count": 89,
     "metadata": {},
     "output_type": "execute_result"
    }
   ],
   "source": [
    "pca.explained_variance_ratio_"
   ]
  },
  {
   "cell_type": "code",
   "execution_count": null,
   "id": "9e4c406b",
   "metadata": {},
   "outputs": [],
   "source": []
  }
 ],
 "metadata": {
  "kernelspec": {
   "display_name": "Python 3 (ipykernel)",
   "language": "python",
   "name": "python3"
  },
  "language_info": {
   "codemirror_mode": {
    "name": "ipython",
    "version": 3
   },
   "file_extension": ".py",
   "mimetype": "text/x-python",
   "name": "python",
   "nbconvert_exporter": "python",
   "pygments_lexer": "ipython3",
   "version": "3.9.6"
  }
 },
 "nbformat": 4,
 "nbformat_minor": 5
}
